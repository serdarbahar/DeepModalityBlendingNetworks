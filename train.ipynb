{
 "cells": [
  {
   "cell_type": "code",
   "execution_count": null,
   "metadata": {},
   "outputs": [],
   "source": [
    "import torch\n",
    "import torch.optim as optim\n",
    "import numpy as np\n",
    "import importlib\n",
    "import validate_model\n",
    "import model\n",
    "import utils\n",
    "import loss_utils\n",
    "import model_predict\n",
    "\n",
    "importlib.reload(model)\n",
    "importlib.reload(utils)\n",
    "\n",
    "Y1 = torch.tensor(np.load(\"data/modality1.npy\"), dtype=torch.float32)\n",
    "Y2 = torch.tensor(np.load(\"data/modality2.npy\"), dtype=torch.float32)\n",
    "\n",
    "num_demo = Y1.shape[0]\n",
    "time_len = Y1.shape[1]\n",
    "\n",
    "X1 = torch.linspace(0, 1, time_len).repeat(num_demo, 1).reshape(num_demo, -1, 1)\n",
    "X2 = torch.linspace(0, 1, time_len).repeat(num_demo, 1).reshape(num_demo, -1, 1)"
   ]
  },
  {
   "cell_type": "code",
   "execution_count": null,
   "metadata": {},
   "outputs": [],
   "source": [
    "d_x = 1\n",
    "d_y1 = Y1.shape[2]\n",
    "d_y2 = Y2.shape[2]\n",
    "d_N = num_demo\n",
    "validation_indices = [0]\n",
    "demo_data = [X1, X2, Y1, Y2]\n",
    "\n",
    "OBS_MAX = 10 # Hyperparameter: Maximum number of sampled observations per trajectory\n",
    "batch_size = 8 # Hyperparameter: Batch size for training"
   ]
  },
  {
   "cell_type": "code",
   "execution_count": null,
   "metadata": {},
   "outputs": [],
   "source": [
    "\n",
    "importlib.reload(model)\n",
    "importlib.reload(utils)\n",
    "importlib.reload(loss_utils)\n",
    "importlib.reload(model_predict)\n",
    "importlib.reload(validate_model)\n",
    "\n",
    "def train(model, optimizer, EPOCHS):\n",
    "        \n",
    "    for i in range(EPOCHS):\n",
    "    \n",
    "        obs, mask, x_tar, y1_tar, y2_tar = model.get_training_sample(validation_indices, demo_data, OBS_MAX, \n",
    "                                                                           d_N, d_x, d_y1, d_y2, time_len, batch_size)\n",
    "        optimizer.zero_grad()\n",
    "        output = model(obs, mask, x_tar)\n",
    "        loss = model.loss(output, y1_tar, y2_tar, d_y1, d_y2)\n",
    "        loss.backward()\n",
    "        optimizer.step()\n",
    "\n",
    "        if i % 200 == 0:\n",
    "            losses.append(loss.item())\n",
    "            error = validate_model.val(model, validation_indices, i, demo_data, d_x, d_y1, d_y2)\n",
    "            errors.append(error)\n",
    "            if errors[-1] == min(errors):\n",
    "                print('Saving model ', i)\n",
    "                print('loss: ', loss.item())  \n",
    "                print('mse error: ', error.item())\n",
    "                torch.save(model.state_dict(), 'save/best_model.pth')\n",
    "\n",
    "errors = []\n",
    "losses = []\n",
    "\n",
    "EPOCHS = 500000\n",
    "\n",
    "# Generally a good starting point for our model. Please adjust between 1e-3 and 5e-5.\n",
    "learning_rate = 1e-4\n",
    "\n",
    "model = model.DualEncoderDecoder(d_x, d_y1, d_y2)\n",
    "optimizer = optim.Adam(model.parameters(), lr=learning_rate)\n",
    "\n",
    "train(model, optimizer, EPOCHS)"
   ]
  }
 ],
 "metadata": {
  "kernelspec": {
   "display_name": "Python 3",
   "language": "python",
   "name": "python3"
  },
  "language_info": {
   "codemirror_mode": {
    "name": "ipython",
    "version": 3
   },
   "file_extension": ".py",
   "mimetype": "text/x-python",
   "name": "python",
   "nbconvert_exporter": "python",
   "pygments_lexer": "ipython3",
   "version": "3.9.6"
  }
 },
 "nbformat": 4,
 "nbformat_minor": 2
}
